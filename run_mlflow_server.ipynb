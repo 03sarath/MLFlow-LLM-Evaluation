{
  "nbformat": 4,
  "nbformat_minor": 0,
  "metadata": {
    "colab": {
      "provenance": [],
      "authorship_tag": "ABX9TyM5p0SXeKeMKfH/2S5EQW+p",
      "include_colab_link": true
    },
    "kernelspec": {
      "name": "python3",
      "display_name": "Python 3"
    },
    "language_info": {
      "name": "python"
    }
  },
  "cells": [
    {
      "cell_type": "markdown",
      "metadata": {
        "id": "view-in-github",
        "colab_type": "text"
      },
      "source": [
        "<a href=\"https://colab.research.google.com/github/03sarath/MLFlow-LLM-Evaluation/blob/main/run_mlflow_server.ipynb\" target=\"_parent\"><img src=\"https://colab.research.google.com/assets/colab-badge.svg\" alt=\"Open In Colab\"/></a>"
      ]
    },
    {
      "cell_type": "markdown",
      "source": [
        "### Create and run MLFlow Server"
      ],
      "metadata": {
        "id": "74oTQK_7dPt_"
      }
    },
    {
      "cell_type": "code",
      "execution_count": null,
      "metadata": {
        "id": "U4tDEuzVV88N"
      },
      "outputs": [],
      "source": [
        "!pip install mlflow"
      ]
    },
    {
      "cell_type": "code",
      "source": [
        "!pip install pyngrok"
      ],
      "metadata": {
        "id": "biVLRFZYWHlD"
      },
      "execution_count": null,
      "outputs": []
    },
    {
      "cell_type": "code",
      "source": [
        "from pyngrok import ngrok\n",
        "ngrok.set_auth_token(\"2xic3wZeFbXTXsjRgfzCdyaQghZ_429PQhfjQ6HZVQMRjS22K\")  # Replace!"
      ],
      "metadata": {
        "id": "1MREng0OWKN1"
      },
      "execution_count": null,
      "outputs": []
    },
    {
      "cell_type": "code",
      "source": [
        "from pyngrok import ngrok\n",
        "http_tunnel = ngrok.connect(addr=5000, proto=\"http\", bind_tls=True)\n",
        "print(\"MLflow UI URL:\", http_tunnel.public_url)"
      ],
      "metadata": {
        "id": "iYUl0smFWMbT"
      },
      "execution_count": null,
      "outputs": []
    },
    {
      "cell_type": "code",
      "source": [
        "!mlflow ui --port 5000 &"
      ],
      "metadata": {
        "id": "qRZSJiTEWOJj"
      },
      "execution_count": null,
      "outputs": []
    }
  ]
}